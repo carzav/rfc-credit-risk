{
 "cells": [
  {
   "cell_type": "markdown",
   "id": "86aa92e4",
   "metadata": {},
   "source": [
    "# MLE challenge - Features engineering"
   ]
  },
  {
   "cell_type": "markdown",
   "id": "97797e24",
   "metadata": {},
   "source": [
    "### Notebook 1"
   ]
  },
  {
   "cell_type": "markdown",
   "id": "8331a455",
   "metadata": {},
   "source": [
    "In this notebook we compute five features for the **credit risk** dataset. \n",
    "Each row in the dataset consists of the credit that a user took on a given date.\n",
    "\n",
    "These features are roughly defined as follows:\n",
    "\n",
    "**nb_previous_loans:** number of loans granted to a given user, before the current loan.\n",
    "\n",
    "**avg_amount_loans_previous:** average amount of loans granted to a user, before the current rating.\n",
    "\n",
    "**age:** user age in years.\n",
    "\n",
    "**years_on_the_job:** years the user has been in employment.\n",
    "\n",
    "**flag_own_car:** flag that indicates if the user has his own car.\n",
    "\n",
    "We have the following problem: the feature `avg_amount_loans_previous` takes just too long to be computed for all the rows of the dataset (at least the way it's implemented).\n",
    "\n",
    "\n"
   ]
  },
  {
   "cell_type": "code",
   "execution_count": 1,
   "id": "d09991a4-6277-4b33-bd4f-b956238370fd",
   "metadata": {},
   "outputs": [
    {
     "name": "stderr",
     "output_type": "stream",
     "text": [
      "WARNING: An illegal reflective access operation has occurred\n",
      "WARNING: Illegal reflective access by org.apache.spark.unsafe.Platform (file:/usr/local/spark-3.2.0-bin-hadoop3.2/jars/spark-unsafe_2.12-3.2.0.jar) to constructor java.nio.DirectByteBuffer(long,int)\n",
      "WARNING: Please consider reporting this to the maintainers of org.apache.spark.unsafe.Platform\n",
      "WARNING: Use --illegal-access=warn to enable warnings of further illegal reflective access operations\n",
      "WARNING: All illegal access operations will be denied in a future release\n",
      "Using Spark's default log4j profile: org/apache/spark/log4j-defaults.properties\n",
      "Setting default log level to \"WARN\".\n",
      "To adjust logging level use sc.setLogLevel(newLevel). For SparkR, use setLogLevel(newLevel).\n",
      "21/11/18 03:31:55 WARN NativeCodeLoader: Unable to load native-hadoop library for your platform... using builtin-java classes where applicable\n",
      "21/11/18 03:31:58 WARN Utils: Service 'SparkUI' could not bind on port 4040. Attempting port 4041.\n"
     ]
    }
   ],
   "source": [
    "#from pyspark.sql import SparkSession as ss\n",
    "# create sparksession\n",
    "import pyspark\n",
    "from pyspark import SparkContext\n",
    "from pyspark import SparkConf\n",
    "sc = pyspark.SparkContext(master=\"local[1]\",appName=\"CreditRisk_N1_czavalaj\")"
   ]
  },
  {
   "cell_type": "code",
   "execution_count": 2,
   "id": "dc529ce8",
   "metadata": {},
   "outputs": [
    {
     "name": "stdout",
     "output_type": "stream",
     "text": [
      "CPU times: user 1.76 ms, sys: 1.62 ms, total: 3.37 ms\n",
      "Wall time: 1.28 s\n"
     ]
    }
   ],
   "source": [
    "%%time\n",
    "# Creamos un RDD\n",
    "data = sc.textFile('dataset_credit_risk.csv')"
   ]
  },
  {
   "cell_type": "code",
   "execution_count": 3,
   "id": "0253308e",
   "metadata": {},
   "outputs": [
    {
     "name": "stderr",
     "output_type": "stream",
     "text": [
      "                                                                                \r"
     ]
    },
    {
     "data": {
      "text/plain": [
       "['loan_id,id,code_gender,flag_own_car,flag_own_realty,cnt_children,amt_income_total,name_income_type,name_education_type,name_family_status,name_housing_type,days_birth,days_employed,flag_mobil,flag_work_phone,flag_phone,flag_email,occupation_type,cnt_fam_members,status,birthday,job_start_date,loan_date,loan_amount',\n",
       " '208089,5044500,F,N,Y,0,45000.0,Pensioner,Secondary / secondary special,Widow,House / apartment,-24151,365243,1,0,0,0,,1.0,0,1955-08-04,3021-09-18,2019-01-01,133.714973572794',\n",
       " '112797,5026631,F,N,Y,0,99000.0,Working,Secondary / secondary special,Separated,House / apartment,-18068,-8870,1,0,0,0,Medicine staff,1.0,0,1972-03-30,1997-06-05,2019-01-01,158.80055787554005',\n",
       " '162434,5036645,M,Y,N,0,202500.0,Working,Incomplete higher,Married,With parents,-12596,-2399,1,0,0,0,Drivers,2.0,0,1987-03-24,2015-02-22,2019-01-01,203.60848690335118',\n",
       " '144343,5033584,F,N,Y,0,292500.0,Working,Higher education,Married,House / apartment,-17718,-4463,1,0,0,0,,2.0,0,1973-03-15,2009-06-29,2019-01-01,113.20496431707618']"
      ]
     },
     "execution_count": 3,
     "metadata": {},
     "output_type": "execute_result"
    }
   ],
   "source": [
    "# Mostramos 5 elementos el RDD\n",
    "data.take(5)"
   ]
  },
  {
   "cell_type": "code",
   "execution_count": 4,
   "id": "2f0cdf53",
   "metadata": {},
   "outputs": [
    {
     "name": "stderr",
     "output_type": "stream",
     "text": [
      "/usr/local/spark/python/pyspark/sql/context.py:77: FutureWarning: Deprecated in 3.0.0. Use SparkSession.builder.getOrCreate() instead.\n",
      "  warnings.warn(\n"
     ]
    }
   ],
   "source": [
    "# Vamos a convertir el RDD en un formato adecuado\n",
    "from pyspark.sql import SQLContext\n",
    "from pyspark.sql.types import IntegerType,BooleanType,DateType\n",
    "sqlContext = SQLContext(sc)"
   ]
  },
  {
   "cell_type": "code",
   "execution_count": 5,
   "id": "dd5d29cd",
   "metadata": {},
   "outputs": [
    {
     "name": "stderr",
     "output_type": "stream",
     "text": [
      "[Stage 2:=============================>                             (1 + 1) / 2]\r"
     ]
    },
    {
     "name": "stdout",
     "output_type": "stream",
     "text": [
      "CPU times: user 9.77 ms, sys: 5.71 ms, total: 15.5 ms\n",
      "Wall time: 12.4 s\n"
     ]
    },
    {
     "name": "stderr",
     "output_type": "stream",
     "text": [
      "                                                                                \r"
     ]
    },
    {
     "data": {
      "text/plain": [
       "pyspark.sql.dataframe.DataFrame"
      ]
     },
     "execution_count": 5,
     "metadata": {},
     "output_type": "execute_result"
    }
   ],
   "source": [
    "%%time\n",
    "cRiskDF= sqlContext.read.csv('dataset_credit_risk.csv', sep=',', header='true', inferSchema='true')\n",
    "type(cRiskDF)"
   ]
  },
  {
   "cell_type": "code",
   "execution_count": 6,
   "id": "b7d2b986",
   "metadata": {},
   "outputs": [],
   "source": [
    "cRiskDF.sort('id','loan_date')\n",
    "cRiskDF = cRiskDF.withColumn('loan_date',cRiskDF.loan_date.cast('date'))\n"
   ]
  },
  {
   "cell_type": "code",
   "execution_count": 7,
   "id": "49ef5369",
   "metadata": {},
   "outputs": [
    {
     "name": "stdout",
     "output_type": "stream",
     "text": [
      "root\n",
      " |-- loan_id: integer (nullable = true)\n",
      " |-- id: integer (nullable = true)\n",
      " |-- code_gender: string (nullable = true)\n",
      " |-- flag_own_car: string (nullable = true)\n",
      " |-- flag_own_realty: string (nullable = true)\n",
      " |-- cnt_children: integer (nullable = true)\n",
      " |-- amt_income_total: double (nullable = true)\n",
      " |-- name_income_type: string (nullable = true)\n",
      " |-- name_education_type: string (nullable = true)\n",
      " |-- name_family_status: string (nullable = true)\n",
      " |-- name_housing_type: string (nullable = true)\n",
      " |-- days_birth: integer (nullable = true)\n",
      " |-- days_employed: integer (nullable = true)\n",
      " |-- flag_mobil: integer (nullable = true)\n",
      " |-- flag_work_phone: integer (nullable = true)\n",
      " |-- flag_phone: integer (nullable = true)\n",
      " |-- flag_email: integer (nullable = true)\n",
      " |-- occupation_type: string (nullable = true)\n",
      " |-- cnt_fam_members: double (nullable = true)\n",
      " |-- status: integer (nullable = true)\n",
      " |-- birthday: string (nullable = true)\n",
      " |-- job_start_date: string (nullable = true)\n",
      " |-- loan_date: date (nullable = true)\n",
      " |-- loan_amount: double (nullable = true)\n",
      "\n"
     ]
    }
   ],
   "source": [
    "cRiskDF.printSchema()"
   ]
  },
  {
   "cell_type": "markdown",
   "id": "4e25b5cd",
   "metadata": {},
   "source": [
    "#### Feature nb_previous_loans"
   ]
  },
  {
   "cell_type": "code",
   "execution_count": 8,
   "id": "a52083be",
   "metadata": {},
   "outputs": [
    {
     "name": "stderr",
     "output_type": "stream",
     "text": [
      "[Stage 5:>                                                          (0 + 1) / 1]\r"
     ]
    },
    {
     "name": "stdout",
     "output_type": "stream",
     "text": [
      "+-------+-------+-----------+------------+---------------+------------+----------------+----------------+-------------------+------------------+-----------------+----------+-------------+----------+---------------+----------+----------+---------------+---------------+------+----------+--------------+----------+------------------+------------------+\n",
      "|loan_id|     id|code_gender|flag_own_car|flag_own_realty|cnt_children|amt_income_total|name_income_type|name_education_type|name_family_status|name_housing_type|days_birth|days_employed|flag_mobil|flag_work_phone|flag_phone|flag_email|occupation_type|cnt_fam_members|status|  birthday|job_start_date| loan_date|       loan_amount|nb_previous_loans1|\n",
      "+-------+-------+-----------+------------+---------------+------------+----------------+----------------+-------------------+------------------+-----------------+----------+-------------+----------+---------------+----------+----------+---------------+---------------+------+----------+--------------+----------+------------------+------------------+\n",
      "|   1008|5008804|          M|           Y|              Y|           0|        427500.0|         Working|   Higher education|    Civil marriage| Rented apartment|    -12005|        -4542|         1|              1|         0|         0|           null|            2.0|     0|1988-11-04|    2009-04-11|2019-02-01|102.28336090329137|                 1|\n",
      "|   1000|5008804|          M|           Y|              Y|           0|        427500.0|         Working|   Higher education|    Civil marriage| Rented apartment|    -12005|        -4542|         1|              1|         0|         0|           null|            2.0|     0|1988-11-04|    2009-04-11|2019-02-15|136.60204916713766|                 2|\n",
      "|   1012|5008804|          M|           Y|              Y|           0|        427500.0|         Working|   Higher education|    Civil marriage| Rented apartment|    -12005|        -4542|         1|              1|         0|         0|           null|            2.0|     0|1988-11-04|    2009-04-11|2019-02-17|114.73369384225273|                 3|\n",
      "|   1011|5008804|          M|           Y|              Y|           0|        427500.0|         Working|   Higher education|    Civil marriage| Rented apartment|    -12005|        -4542|         1|              1|         0|         0|           null|            2.0|     0|1988-11-04|    2009-04-11|2019-05-20|103.53905003353589|                 4|\n",
      "|   1003|5008804|          M|           Y|              Y|           0|        427500.0|         Working|   Higher education|    Civil marriage| Rented apartment|    -12005|        -4542|         1|              1|         0|         0|           null|            2.0|     0|1988-11-04|    2009-04-11|2019-07-05|112.94814667072303|                 5|\n",
      "|   1010|5008804|          M|           Y|              Y|           0|        427500.0|         Working|   Higher education|    Civil marriage| Rented apartment|    -12005|        -4542|         1|              1|         0|         0|           null|            2.0|     0|1988-11-04|    2009-04-11|2019-08-01|127.64208725607054|                 6|\n",
      "|   1005|5008804|          M|           Y|              Y|           0|        427500.0|         Working|   Higher education|    Civil marriage| Rented apartment|    -12005|        -4542|         1|              1|         0|         0|           null|            2.0|     0|1988-11-04|    2009-04-11|2019-10-28|104.99499695830349|                 7|\n",
      "|   1006|5008804|          M|           Y|              Y|           0|        427500.0|         Working|   Higher education|    Civil marriage| Rented apartment|    -12005|        -4542|         1|              1|         0|         0|           null|            2.0|     0|1988-11-04|    2009-04-11|2019-11-09|178.01606540287972|                 8|\n",
      "|   1015|5008804|          M|           Y|              Y|           0|        427500.0|         Working|   Higher education|    Civil marriage| Rented apartment|    -12005|        -4542|         1|              1|         0|         0|           null|            2.0|     0|1988-11-04|    2009-04-11|2019-12-02|170.21378601074449|                 9|\n",
      "|   1001|5008804|          M|           Y|              Y|           0|        427500.0|         Working|   Higher education|    Civil marriage| Rented apartment|    -12005|        -4542|         1|              1|         0|         0|           null|            2.0|     0|1988-11-04|    2009-04-11|2019-12-30|112.12568517865296|                10|\n",
      "|   1004|5008804|          M|           Y|              Y|           0|        427500.0|         Working|   Higher education|    Civil marriage| Rented apartment|    -12005|        -4542|         1|              1|         0|         0|           null|            2.0|     0|1988-11-04|    2009-04-11|2020-04-20|134.90211697072857|                11|\n",
      "|   1014|5008804|          M|           Y|              Y|           0|        427500.0|         Working|   Higher education|    Civil marriage| Rented apartment|    -12005|        -4542|         1|              1|         0|         0|           null|            2.0|     0|1988-11-04|    2009-04-11|2020-07-22| 205.3251668682443|                12|\n",
      "|   1007|5008804|          M|           Y|              Y|           0|        427500.0|         Working|   Higher education|    Civil marriage| Rented apartment|    -12005|        -4542|         1|              1|         0|         0|           null|            2.0|     0|1988-11-04|    2009-04-11|2020-08-16|112.61106555002515|                13|\n",
      "|   1013|5008804|          M|           Y|              Y|           0|        427500.0|         Working|   Higher education|    Civil marriage| Rented apartment|    -12005|        -4542|         1|              1|         0|         0|           null|            2.0|     1|1988-11-04|    2009-04-11|2020-09-28|106.16165141343872|                14|\n",
      "|   1009|5008804|          M|           Y|              Y|           0|        427500.0|         Working|   Higher education|    Civil marriage| Rented apartment|    -12005|        -4542|         1|              1|         0|         0|           null|            2.0|     0|1988-11-04|    2009-04-11|2020-10-07|111.49664531369122|                15|\n",
      "|   1002|5008804|          M|           Y|              Y|           0|        427500.0|         Working|   Higher education|    Civil marriage| Rented apartment|    -12005|        -4542|         1|              1|         0|         0|           null|            2.0|     0|1988-11-04|    2009-04-11|2020-12-26|126.17185526748997|                16|\n",
      "|   1016|5008805|          M|           Y|              Y|           0|        427500.0|         Working|   Higher education|    Civil marriage| Rented apartment|    -12005|        -4542|         1|              1|         0|         0|           null|            2.0|     0|1988-11-04|    2009-04-11|2019-04-30|114.67783357765765|                 1|\n",
      "|   1022|5008805|          M|           Y|              Y|           0|        427500.0|         Working|   Higher education|    Civil marriage| Rented apartment|    -12005|        -4542|         1|              1|         0|         0|           null|            2.0|     0|1988-11-04|    2009-04-11|2019-05-24| 108.4004834844668|                 2|\n",
      "|   1025|5008805|          M|           Y|              Y|           0|        427500.0|         Working|   Higher education|    Civil marriage| Rented apartment|    -12005|        -4542|         1|              1|         0|         0|           null|            2.0|     0|1988-11-04|    2009-04-11|2019-06-19| 106.0067206289098|                 3|\n",
      "|   1023|5008805|          M|           Y|              Y|           0|        427500.0|         Working|   Higher education|    Civil marriage| Rented apartment|    -12005|        -4542|         1|              1|         0|         0|           null|            2.0|     0|1988-11-04|    2009-04-11|2019-07-15|101.68904493434714|                 4|\n",
      "+-------+-------+-----------+------------+---------------+------------+----------------+----------------+-------------------+------------------+-----------------+----------+-------------+----------+---------------+----------+----------+---------------+---------------+------+----------+--------------+----------+------------------+------------------+\n",
      "only showing top 20 rows\n",
      "\n",
      "CPU times: user 28.5 ms, sys: 13.4 ms, total: 41.9 ms\n",
      "Wall time: 10.3 s\n"
     ]
    },
    {
     "name": "stderr",
     "output_type": "stream",
     "text": [
      "                                                                                \r"
     ]
    }
   ],
   "source": [
    "%%time\n",
    "import pyspark.sql.functions as F\n",
    "from pyspark.sql.functions import when\n",
    "from pyspark.sql.window import Window\n",
    "window=Window.partitionBy('id').orderBy('loan_date')\n",
    "cRiskDF = cRiskDF.withColumn('nb_previous_loans1', F.rank().over(window))\n",
    "cRiskDF.show()"
   ]
  },
  {
   "cell_type": "code",
   "execution_count": 9,
   "id": "cc1b6143",
   "metadata": {},
   "outputs": [
    {
     "name": "stderr",
     "output_type": "stream",
     "text": [
      "21/11/18 03:32:27 WARN package: Truncated the string representation of a plan since it was too large. This behavior can be adjusted by setting 'spark.sql.debug.maxToStringFields'.\n",
      "[Stage 8:>                                                          (0 + 1) / 1]\r"
     ]
    },
    {
     "name": "stdout",
     "output_type": "stream",
     "text": [
      "+-------+-------+-----------+------------+---------------+------------+----------------+----------------+-------------------+------------------+-----------------+----------+-------------+----------+---------------+----------+----------+---------------+---------------+------+----------+--------------+----------+------------------+------------------+-----------------+\n",
      "|loan_id|     id|code_gender|flag_own_car|flag_own_realty|cnt_children|amt_income_total|name_income_type|name_education_type|name_family_status|name_housing_type|days_birth|days_employed|flag_mobil|flag_work_phone|flag_phone|flag_email|occupation_type|cnt_fam_members|status|  birthday|job_start_date| loan_date|       loan_amount|nb_previous_loans1|nb_previous_loans|\n",
      "+-------+-------+-----------+------------+---------------+------------+----------------+----------------+-------------------+------------------+-----------------+----------+-------------+----------+---------------+----------+----------+---------------+---------------+------+----------+--------------+----------+------------------+------------------+-----------------+\n",
      "|   1008|5008804|          M|           Y|              Y|           0|        427500.0|         Working|   Higher education|    Civil marriage| Rented apartment|    -12005|        -4542|         1|              1|         0|         0|           null|            2.0|     0|1988-11-04|    2009-04-11|2019-02-01|102.28336090329137|                 1|                0|\n",
      "|   1000|5008804|          M|           Y|              Y|           0|        427500.0|         Working|   Higher education|    Civil marriage| Rented apartment|    -12005|        -4542|         1|              1|         0|         0|           null|            2.0|     0|1988-11-04|    2009-04-11|2019-02-15|136.60204916713766|                 2|                1|\n",
      "|   1012|5008804|          M|           Y|              Y|           0|        427500.0|         Working|   Higher education|    Civil marriage| Rented apartment|    -12005|        -4542|         1|              1|         0|         0|           null|            2.0|     0|1988-11-04|    2009-04-11|2019-02-17|114.73369384225273|                 3|                2|\n",
      "|   1011|5008804|          M|           Y|              Y|           0|        427500.0|         Working|   Higher education|    Civil marriage| Rented apartment|    -12005|        -4542|         1|              1|         0|         0|           null|            2.0|     0|1988-11-04|    2009-04-11|2019-05-20|103.53905003353589|                 4|                3|\n",
      "|   1003|5008804|          M|           Y|              Y|           0|        427500.0|         Working|   Higher education|    Civil marriage| Rented apartment|    -12005|        -4542|         1|              1|         0|         0|           null|            2.0|     0|1988-11-04|    2009-04-11|2019-07-05|112.94814667072303|                 5|                4|\n",
      "|   1010|5008804|          M|           Y|              Y|           0|        427500.0|         Working|   Higher education|    Civil marriage| Rented apartment|    -12005|        -4542|         1|              1|         0|         0|           null|            2.0|     0|1988-11-04|    2009-04-11|2019-08-01|127.64208725607054|                 6|                5|\n",
      "|   1005|5008804|          M|           Y|              Y|           0|        427500.0|         Working|   Higher education|    Civil marriage| Rented apartment|    -12005|        -4542|         1|              1|         0|         0|           null|            2.0|     0|1988-11-04|    2009-04-11|2019-10-28|104.99499695830349|                 7|                6|\n",
      "|   1006|5008804|          M|           Y|              Y|           0|        427500.0|         Working|   Higher education|    Civil marriage| Rented apartment|    -12005|        -4542|         1|              1|         0|         0|           null|            2.0|     0|1988-11-04|    2009-04-11|2019-11-09|178.01606540287972|                 8|                7|\n",
      "|   1015|5008804|          M|           Y|              Y|           0|        427500.0|         Working|   Higher education|    Civil marriage| Rented apartment|    -12005|        -4542|         1|              1|         0|         0|           null|            2.0|     0|1988-11-04|    2009-04-11|2019-12-02|170.21378601074449|                 9|                8|\n",
      "|   1001|5008804|          M|           Y|              Y|           0|        427500.0|         Working|   Higher education|    Civil marriage| Rented apartment|    -12005|        -4542|         1|              1|         0|         0|           null|            2.0|     0|1988-11-04|    2009-04-11|2019-12-30|112.12568517865296|                10|                9|\n",
      "|   1004|5008804|          M|           Y|              Y|           0|        427500.0|         Working|   Higher education|    Civil marriage| Rented apartment|    -12005|        -4542|         1|              1|         0|         0|           null|            2.0|     0|1988-11-04|    2009-04-11|2020-04-20|134.90211697072857|                11|               10|\n",
      "|   1014|5008804|          M|           Y|              Y|           0|        427500.0|         Working|   Higher education|    Civil marriage| Rented apartment|    -12005|        -4542|         1|              1|         0|         0|           null|            2.0|     0|1988-11-04|    2009-04-11|2020-07-22| 205.3251668682443|                12|               11|\n",
      "|   1007|5008804|          M|           Y|              Y|           0|        427500.0|         Working|   Higher education|    Civil marriage| Rented apartment|    -12005|        -4542|         1|              1|         0|         0|           null|            2.0|     0|1988-11-04|    2009-04-11|2020-08-16|112.61106555002515|                13|               12|\n",
      "|   1013|5008804|          M|           Y|              Y|           0|        427500.0|         Working|   Higher education|    Civil marriage| Rented apartment|    -12005|        -4542|         1|              1|         0|         0|           null|            2.0|     1|1988-11-04|    2009-04-11|2020-09-28|106.16165141343872|                14|               13|\n",
      "|   1009|5008804|          M|           Y|              Y|           0|        427500.0|         Working|   Higher education|    Civil marriage| Rented apartment|    -12005|        -4542|         1|              1|         0|         0|           null|            2.0|     0|1988-11-04|    2009-04-11|2020-10-07|111.49664531369122|                15|               14|\n",
      "|   1002|5008804|          M|           Y|              Y|           0|        427500.0|         Working|   Higher education|    Civil marriage| Rented apartment|    -12005|        -4542|         1|              1|         0|         0|           null|            2.0|     0|1988-11-04|    2009-04-11|2020-12-26|126.17185526748997|                16|               15|\n",
      "|   1016|5008805|          M|           Y|              Y|           0|        427500.0|         Working|   Higher education|    Civil marriage| Rented apartment|    -12005|        -4542|         1|              1|         0|         0|           null|            2.0|     0|1988-11-04|    2009-04-11|2019-04-30|114.67783357765765|                 1|                0|\n",
      "|   1022|5008805|          M|           Y|              Y|           0|        427500.0|         Working|   Higher education|    Civil marriage| Rented apartment|    -12005|        -4542|         1|              1|         0|         0|           null|            2.0|     0|1988-11-04|    2009-04-11|2019-05-24| 108.4004834844668|                 2|                1|\n",
      "|   1025|5008805|          M|           Y|              Y|           0|        427500.0|         Working|   Higher education|    Civil marriage| Rented apartment|    -12005|        -4542|         1|              1|         0|         0|           null|            2.0|     0|1988-11-04|    2009-04-11|2019-06-19| 106.0067206289098|                 3|                2|\n",
      "|   1023|5008805|          M|           Y|              Y|           0|        427500.0|         Working|   Higher education|    Civil marriage| Rented apartment|    -12005|        -4542|         1|              1|         0|         0|           null|            2.0|     0|1988-11-04|    2009-04-11|2019-07-15|101.68904493434714|                 4|                3|\n",
      "+-------+-------+-----------+------------+---------------+------------+----------------+----------------+-------------------+------------------+-----------------+----------+-------------+----------+---------------+----------+----------+---------------+---------------+------+----------+--------------+----------+------------------+------------------+-----------------+\n",
      "only showing top 20 rows\n",
      "\n"
     ]
    },
    {
     "name": "stderr",
     "output_type": "stream",
     "text": [
      "                                                                                \r"
     ]
    }
   ],
   "source": [
    "cRiskDF = cRiskDF.withColumn('nb_previous_loans',cRiskDF.nb_previous_loans1-1)\n",
    "cRiskDF.show()\n"
   ]
  },
  {
   "cell_type": "markdown",
   "id": "be778c3a",
   "metadata": {},
   "source": [
    "#### Feature avg_amount_loans_previous"
   ]
  },
  {
   "cell_type": "code",
   "execution_count": 10,
   "id": "f3968ca1",
   "metadata": {},
   "outputs": [
    {
     "name": "stderr",
     "output_type": "stream",
     "text": [
      "[Stage 11:>                                                         (0 + 1) / 1]\r"
     ]
    },
    {
     "name": "stdout",
     "output_type": "stream",
     "text": [
      "+-------+-------+-----------+------------+---------------+------------+----------------+----------------+-------------------+------------------+-----------------+----------+-------------+----------+---------------+----------+----------+---------------+---------------+------+----------+--------------+----------+------------------+------------------+-----------------+-------------------------+\n",
      "|loan_id|     id|code_gender|flag_own_car|flag_own_realty|cnt_children|amt_income_total|name_income_type|name_education_type|name_family_status|name_housing_type|days_birth|days_employed|flag_mobil|flag_work_phone|flag_phone|flag_email|occupation_type|cnt_fam_members|status|  birthday|job_start_date| loan_date|       loan_amount|nb_previous_loans1|nb_previous_loans|avg_amount_loans_previous|\n",
      "+-------+-------+-----------+------------+---------------+------------+----------------+----------------+-------------------+------------------+-----------------+----------+-------------+----------+---------------+----------+----------+---------------+---------------+------+----------+--------------+----------+------------------+------------------+-----------------+-------------------------+\n",
      "|   1008|5008804|          M|           Y|              Y|           0|        427500.0|         Working|   Higher education|    Civil marriage| Rented apartment|    -12005|        -4542|         1|              1|         0|         0|           null|            2.0|     0|1988-11-04|    2009-04-11|2019-02-01|102.28336090329137|                 1|                0|                     null|\n",
      "|   1000|5008804|          M|           Y|              Y|           0|        427500.0|         Working|   Higher education|    Civil marriage| Rented apartment|    -12005|        -4542|         1|              1|         0|         0|           null|            2.0|     0|1988-11-04|    2009-04-11|2019-02-15|136.60204916713766|                 2|                1|       102.28336090329137|\n",
      "|   1012|5008804|          M|           Y|              Y|           0|        427500.0|         Working|   Higher education|    Civil marriage| Rented apartment|    -12005|        -4542|         1|              1|         0|         0|           null|            2.0|     0|1988-11-04|    2009-04-11|2019-02-17|114.73369384225273|                 3|                2|       119.44270503521452|\n",
      "|   1011|5008804|          M|           Y|              Y|           0|        427500.0|         Working|   Higher education|    Civil marriage| Rented apartment|    -12005|        -4542|         1|              1|         0|         0|           null|            2.0|     0|1988-11-04|    2009-04-11|2019-05-20|103.53905003353589|                 4|                3|        117.8730346375606|\n",
      "|   1003|5008804|          M|           Y|              Y|           0|        427500.0|         Working|   Higher education|    Civil marriage| Rented apartment|    -12005|        -4542|         1|              1|         0|         0|           null|            2.0|     0|1988-11-04|    2009-04-11|2019-07-05|112.94814667072303|                 5|                4|       114.28953848655442|\n",
      "|   1010|5008804|          M|           Y|              Y|           0|        427500.0|         Working|   Higher education|    Civil marriage| Rented apartment|    -12005|        -4542|         1|              1|         0|         0|           null|            2.0|     0|1988-11-04|    2009-04-11|2019-08-01|127.64208725607054|                 6|                5|       114.02126012338815|\n",
      "|   1005|5008804|          M|           Y|              Y|           0|        427500.0|         Working|   Higher education|    Civil marriage| Rented apartment|    -12005|        -4542|         1|              1|         0|         0|           null|            2.0|     0|1988-11-04|    2009-04-11|2019-10-28|104.99499695830349|                 7|                6|       116.29139797883522|\n",
      "|   1006|5008804|          M|           Y|              Y|           0|        427500.0|         Working|   Higher education|    Civil marriage| Rented apartment|    -12005|        -4542|         1|              1|         0|         0|           null|            2.0|     0|1988-11-04|    2009-04-11|2019-11-09|178.01606540287972|                 8|                7|       114.67762640447356|\n",
      "|   1015|5008804|          M|           Y|              Y|           0|        427500.0|         Working|   Higher education|    Civil marriage| Rented apartment|    -12005|        -4542|         1|              1|         0|         0|           null|            2.0|     0|1988-11-04|    2009-04-11|2019-12-02|170.21378601074449|                 9|                8|       122.59493127927432|\n",
      "|   1001|5008804|          M|           Y|              Y|           0|        427500.0|         Working|   Higher education|    Civil marriage| Rented apartment|    -12005|        -4542|         1|              1|         0|         0|           null|            2.0|     0|1988-11-04|    2009-04-11|2019-12-30|112.12568517865296|                10|                9|       127.88591513832655|\n",
      "|   1004|5008804|          M|           Y|              Y|           0|        427500.0|         Working|   Higher education|    Civil marriage| Rented apartment|    -12005|        -4542|         1|              1|         0|         0|           null|            2.0|     0|1988-11-04|    2009-04-11|2020-04-20|134.90211697072857|                11|               10|       126.30989214235919|\n",
      "|   1014|5008804|          M|           Y|              Y|           0|        427500.0|         Working|   Higher education|    Civil marriage| Rented apartment|    -12005|        -4542|         1|              1|         0|         0|           null|            2.0|     0|1988-11-04|    2009-04-11|2020-07-22| 205.3251668682443|                12|               11|       127.09100349039277|\n",
      "|   1007|5008804|          M|           Y|              Y|           0|        427500.0|         Working|   Higher education|    Civil marriage| Rented apartment|    -12005|        -4542|         1|              1|         0|         0|           null|            2.0|     0|1988-11-04|    2009-04-11|2020-08-16|112.61106555002515|                13|               12|       133.61051710521372|\n",
      "|   1013|5008804|          M|           Y|              Y|           0|        427500.0|         Working|   Higher education|    Civil marriage| Rented apartment|    -12005|        -4542|         1|              1|         0|         0|           null|            2.0|     1|1988-11-04|    2009-04-11|2020-09-28|106.16165141343872|                14|               13|       131.99517467789153|\n",
      "|   1009|5008804|          M|           Y|              Y|           0|        427500.0|         Working|   Higher education|    Civil marriage| Rented apartment|    -12005|        -4542|         1|              1|         0|         0|           null|            2.0|     0|1988-11-04|    2009-04-11|2020-10-07|111.49664531369122|                15|               14|        130.1499230161449|\n",
      "|   1002|5008804|          M|           Y|              Y|           0|        427500.0|         Working|   Higher education|    Civil marriage| Rented apartment|    -12005|        -4542|         1|              1|         0|         0|           null|            2.0|     0|1988-11-04|    2009-04-11|2020-12-26|126.17185526748997|                16|               15|       128.90637116931464|\n",
      "|   1016|5008805|          M|           Y|              Y|           0|        427500.0|         Working|   Higher education|    Civil marriage| Rented apartment|    -12005|        -4542|         1|              1|         0|         0|           null|            2.0|     0|1988-11-04|    2009-04-11|2019-04-30|114.67783357765765|                 1|                0|                     null|\n",
      "|   1022|5008805|          M|           Y|              Y|           0|        427500.0|         Working|   Higher education|    Civil marriage| Rented apartment|    -12005|        -4542|         1|              1|         0|         0|           null|            2.0|     0|1988-11-04|    2009-04-11|2019-05-24| 108.4004834844668|                 2|                1|       114.67783357765765|\n",
      "|   1025|5008805|          M|           Y|              Y|           0|        427500.0|         Working|   Higher education|    Civil marriage| Rented apartment|    -12005|        -4542|         1|              1|         0|         0|           null|            2.0|     0|1988-11-04|    2009-04-11|2019-06-19| 106.0067206289098|                 3|                2|       111.53915853106223|\n",
      "|   1023|5008805|          M|           Y|              Y|           0|        427500.0|         Working|   Higher education|    Civil marriage| Rented apartment|    -12005|        -4542|         1|              1|         0|         0|           null|            2.0|     0|1988-11-04|    2009-04-11|2019-07-15|101.68904493434714|                 4|                3|       109.69501256367808|\n",
      "+-------+-------+-----------+------------+---------------+------------+----------------+----------------+-------------------+------------------+-----------------+----------+-------------+----------+---------------+----------+----------+---------------+---------------+------+----------+--------------+----------+------------------+------------------+-----------------+-------------------------+\n",
      "only showing top 20 rows\n",
      "\n"
     ]
    },
    {
     "name": "stderr",
     "output_type": "stream",
     "text": [
      "                                                                                \r"
     ]
    }
   ],
   "source": [
    "window1=Window.partitionBy('id').orderBy('nb_previous_loans').rowsBetween(Window.unboundedPreceding, -1)\n",
    "cRiskDF = cRiskDF.withColumn('avg_amount_loans_previous', F.avg('loan_amount').over(window1))\n",
    "cRiskDF.show()"
   ]
  },
  {
   "cell_type": "markdown",
   "id": "e2e743fb",
   "metadata": {},
   "source": [
    "#### Feature age"
   ]
  },
  {
   "cell_type": "code",
   "execution_count": 11,
   "id": "b598db7e",
   "metadata": {},
   "outputs": [],
   "source": [
    "cRiskDF = cRiskDF.withColumn('birthday',cRiskDF.birthday.cast('date'))"
   ]
  },
  {
   "cell_type": "code",
   "execution_count": 12,
   "id": "6aa53bdc",
   "metadata": {},
   "outputs": [
    {
     "name": "stdout",
     "output_type": "stream",
     "text": [
      "root\n",
      " |-- loan_id: integer (nullable = true)\n",
      " |-- id: integer (nullable = true)\n",
      " |-- code_gender: string (nullable = true)\n",
      " |-- flag_own_car: string (nullable = true)\n",
      " |-- flag_own_realty: string (nullable = true)\n",
      " |-- cnt_children: integer (nullable = true)\n",
      " |-- amt_income_total: double (nullable = true)\n",
      " |-- name_income_type: string (nullable = true)\n",
      " |-- name_education_type: string (nullable = true)\n",
      " |-- name_family_status: string (nullable = true)\n",
      " |-- name_housing_type: string (nullable = true)\n",
      " |-- days_birth: integer (nullable = true)\n",
      " |-- days_employed: integer (nullable = true)\n",
      " |-- flag_mobil: integer (nullable = true)\n",
      " |-- flag_work_phone: integer (nullable = true)\n",
      " |-- flag_phone: integer (nullable = true)\n",
      " |-- flag_email: integer (nullable = true)\n",
      " |-- occupation_type: string (nullable = true)\n",
      " |-- cnt_fam_members: double (nullable = true)\n",
      " |-- status: integer (nullable = true)\n",
      " |-- birthday: date (nullable = true)\n",
      " |-- job_start_date: string (nullable = true)\n",
      " |-- loan_date: date (nullable = true)\n",
      " |-- loan_amount: double (nullable = true)\n",
      " |-- nb_previous_loans1: integer (nullable = false)\n",
      " |-- nb_previous_loans: integer (nullable = false)\n",
      " |-- avg_amount_loans_previous: double (nullable = true)\n",
      "\n"
     ]
    }
   ],
   "source": [
    "cRiskDF.printSchema()"
   ]
  },
  {
   "cell_type": "code",
   "execution_count": 13,
   "id": "56a9be14",
   "metadata": {},
   "outputs": [
    {
     "name": "stderr",
     "output_type": "stream",
     "text": [
      "[Stage 14:>                                                         (0 + 1) / 1]\r"
     ]
    },
    {
     "name": "stdout",
     "output_type": "stream",
     "text": [
      "+-------+-------+-----------+------------+---------------+------------+----------------+----------------+-------------------+------------------+-----------------+----------+-------------+----------+---------------+----------+----------+---------------+---------------+------+----------+--------------+----------+------------------+------------------+-----------------+-------------------------+---+\n",
      "|loan_id|     id|code_gender|flag_own_car|flag_own_realty|cnt_children|amt_income_total|name_income_type|name_education_type|name_family_status|name_housing_type|days_birth|days_employed|flag_mobil|flag_work_phone|flag_phone|flag_email|occupation_type|cnt_fam_members|status|  birthday|job_start_date| loan_date|       loan_amount|nb_previous_loans1|nb_previous_loans|avg_amount_loans_previous|age|\n",
      "+-------+-------+-----------+------------+---------------+------------+----------------+----------------+-------------------+------------------+-----------------+----------+-------------+----------+---------------+----------+----------+---------------+---------------+------+----------+--------------+----------+------------------+------------------+-----------------+-------------------------+---+\n",
      "|   1008|5008804|          M|           Y|              Y|           0|        427500.0|         Working|   Higher education|    Civil marriage| Rented apartment|    -12005|        -4542|         1|              1|         0|         0|           null|            2.0|     0|1988-11-04|    2009-04-11|2019-02-01|102.28336090329137|                 1|                0|                     null| 33|\n",
      "|   1000|5008804|          M|           Y|              Y|           0|        427500.0|         Working|   Higher education|    Civil marriage| Rented apartment|    -12005|        -4542|         1|              1|         0|         0|           null|            2.0|     0|1988-11-04|    2009-04-11|2019-02-15|136.60204916713766|                 2|                1|       102.28336090329137| 33|\n",
      "|   1012|5008804|          M|           Y|              Y|           0|        427500.0|         Working|   Higher education|    Civil marriage| Rented apartment|    -12005|        -4542|         1|              1|         0|         0|           null|            2.0|     0|1988-11-04|    2009-04-11|2019-02-17|114.73369384225273|                 3|                2|       119.44270503521452| 33|\n",
      "|   1011|5008804|          M|           Y|              Y|           0|        427500.0|         Working|   Higher education|    Civil marriage| Rented apartment|    -12005|        -4542|         1|              1|         0|         0|           null|            2.0|     0|1988-11-04|    2009-04-11|2019-05-20|103.53905003353589|                 4|                3|        117.8730346375606| 33|\n",
      "|   1003|5008804|          M|           Y|              Y|           0|        427500.0|         Working|   Higher education|    Civil marriage| Rented apartment|    -12005|        -4542|         1|              1|         0|         0|           null|            2.0|     0|1988-11-04|    2009-04-11|2019-07-05|112.94814667072303|                 5|                4|       114.28953848655442| 33|\n",
      "|   1010|5008804|          M|           Y|              Y|           0|        427500.0|         Working|   Higher education|    Civil marriage| Rented apartment|    -12005|        -4542|         1|              1|         0|         0|           null|            2.0|     0|1988-11-04|    2009-04-11|2019-08-01|127.64208725607054|                 6|                5|       114.02126012338815| 33|\n",
      "|   1005|5008804|          M|           Y|              Y|           0|        427500.0|         Working|   Higher education|    Civil marriage| Rented apartment|    -12005|        -4542|         1|              1|         0|         0|           null|            2.0|     0|1988-11-04|    2009-04-11|2019-10-28|104.99499695830349|                 7|                6|       116.29139797883522| 33|\n",
      "|   1006|5008804|          M|           Y|              Y|           0|        427500.0|         Working|   Higher education|    Civil marriage| Rented apartment|    -12005|        -4542|         1|              1|         0|         0|           null|            2.0|     0|1988-11-04|    2009-04-11|2019-11-09|178.01606540287972|                 8|                7|       114.67762640447356| 33|\n",
      "|   1015|5008804|          M|           Y|              Y|           0|        427500.0|         Working|   Higher education|    Civil marriage| Rented apartment|    -12005|        -4542|         1|              1|         0|         0|           null|            2.0|     0|1988-11-04|    2009-04-11|2019-12-02|170.21378601074449|                 9|                8|       122.59493127927432| 33|\n",
      "|   1001|5008804|          M|           Y|              Y|           0|        427500.0|         Working|   Higher education|    Civil marriage| Rented apartment|    -12005|        -4542|         1|              1|         0|         0|           null|            2.0|     0|1988-11-04|    2009-04-11|2019-12-30|112.12568517865296|                10|                9|       127.88591513832655| 33|\n",
      "|   1004|5008804|          M|           Y|              Y|           0|        427500.0|         Working|   Higher education|    Civil marriage| Rented apartment|    -12005|        -4542|         1|              1|         0|         0|           null|            2.0|     0|1988-11-04|    2009-04-11|2020-04-20|134.90211697072857|                11|               10|       126.30989214235919| 33|\n",
      "|   1014|5008804|          M|           Y|              Y|           0|        427500.0|         Working|   Higher education|    Civil marriage| Rented apartment|    -12005|        -4542|         1|              1|         0|         0|           null|            2.0|     0|1988-11-04|    2009-04-11|2020-07-22| 205.3251668682443|                12|               11|       127.09100349039277| 33|\n",
      "|   1007|5008804|          M|           Y|              Y|           0|        427500.0|         Working|   Higher education|    Civil marriage| Rented apartment|    -12005|        -4542|         1|              1|         0|         0|           null|            2.0|     0|1988-11-04|    2009-04-11|2020-08-16|112.61106555002515|                13|               12|       133.61051710521372| 33|\n",
      "|   1013|5008804|          M|           Y|              Y|           0|        427500.0|         Working|   Higher education|    Civil marriage| Rented apartment|    -12005|        -4542|         1|              1|         0|         0|           null|            2.0|     1|1988-11-04|    2009-04-11|2020-09-28|106.16165141343872|                14|               13|       131.99517467789153| 33|\n",
      "|   1009|5008804|          M|           Y|              Y|           0|        427500.0|         Working|   Higher education|    Civil marriage| Rented apartment|    -12005|        -4542|         1|              1|         0|         0|           null|            2.0|     0|1988-11-04|    2009-04-11|2020-10-07|111.49664531369122|                15|               14|        130.1499230161449| 33|\n",
      "|   1002|5008804|          M|           Y|              Y|           0|        427500.0|         Working|   Higher education|    Civil marriage| Rented apartment|    -12005|        -4542|         1|              1|         0|         0|           null|            2.0|     0|1988-11-04|    2009-04-11|2020-12-26|126.17185526748997|                16|               15|       128.90637116931464| 33|\n",
      "|   1016|5008805|          M|           Y|              Y|           0|        427500.0|         Working|   Higher education|    Civil marriage| Rented apartment|    -12005|        -4542|         1|              1|         0|         0|           null|            2.0|     0|1988-11-04|    2009-04-11|2019-04-30|114.67783357765765|                 1|                0|                     null| 33|\n",
      "|   1022|5008805|          M|           Y|              Y|           0|        427500.0|         Working|   Higher education|    Civil marriage| Rented apartment|    -12005|        -4542|         1|              1|         0|         0|           null|            2.0|     0|1988-11-04|    2009-04-11|2019-05-24| 108.4004834844668|                 2|                1|       114.67783357765765| 33|\n",
      "|   1025|5008805|          M|           Y|              Y|           0|        427500.0|         Working|   Higher education|    Civil marriage| Rented apartment|    -12005|        -4542|         1|              1|         0|         0|           null|            2.0|     0|1988-11-04|    2009-04-11|2019-06-19| 106.0067206289098|                 3|                2|       111.53915853106223| 33|\n",
      "|   1023|5008805|          M|           Y|              Y|           0|        427500.0|         Working|   Higher education|    Civil marriage| Rented apartment|    -12005|        -4542|         1|              1|         0|         0|           null|            2.0|     0|1988-11-04|    2009-04-11|2019-07-15|101.68904493434714|                 4|                3|       109.69501256367808| 33|\n",
      "+-------+-------+-----------+------------+---------------+------------+----------------+----------------+-------------------+------------------+-----------------+----------+-------------+----------+---------------+----------+----------+---------------+---------------+------+----------+--------------+----------+------------------+------------------+-----------------+-------------------------+---+\n",
      "only showing top 20 rows\n",
      "\n"
     ]
    },
    {
     "name": "stderr",
     "output_type": "stream",
     "text": [
      "                                                                                \r"
     ]
    }
   ],
   "source": [
    "cRiskDF = cRiskDF.withColumn('age', (F.datediff(F.current_date(),'birthday'))/365)\n",
    "cRiskDF = cRiskDF.withColumn('age', cRiskDF.age.cast('int'))\n",
    "cRiskDF.show()"
   ]
  },
  {
   "cell_type": "markdown",
   "id": "b358b9e1",
   "metadata": {},
   "source": [
    "#### Feature years_on_the_job"
   ]
  },
  {
   "cell_type": "code",
   "execution_count": 14,
   "id": "aea27332",
   "metadata": {},
   "outputs": [
    {
     "name": "stderr",
     "output_type": "stream",
     "text": [
      "[Stage 17:>                                                         (0 + 1) / 1]\r"
     ]
    },
    {
     "name": "stdout",
     "output_type": "stream",
     "text": [
      "+-------+-------+-----------+------------+---------------+------------+----------------+----------------+-------------------+------------------+-----------------+----------+-------------+----------+---------------+----------+----------+---------------+---------------+------+----------+--------------+----------+------------------+------------------+-----------------+-------------------------+---+----------------+\n",
      "|loan_id|     id|code_gender|flag_own_car|flag_own_realty|cnt_children|amt_income_total|name_income_type|name_education_type|name_family_status|name_housing_type|days_birth|days_employed|flag_mobil|flag_work_phone|flag_phone|flag_email|occupation_type|cnt_fam_members|status|  birthday|job_start_date| loan_date|       loan_amount|nb_previous_loans1|nb_previous_loans|avg_amount_loans_previous|age|years_on_the_job|\n",
      "+-------+-------+-----------+------------+---------------+------------+----------------+----------------+-------------------+------------------+-----------------+----------+-------------+----------+---------------+----------+----------+---------------+---------------+------+----------+--------------+----------+------------------+------------------+-----------------+-------------------------+---+----------------+\n",
      "|   1008|5008804|          M|           Y|              Y|           0|        427500.0|         Working|   Higher education|    Civil marriage| Rented apartment|    -12005|        -4542|         1|              1|         0|         0|           null|            2.0|     0|1988-11-04|    2009-04-11|2019-02-01|102.28336090329137|                 1|                0|                     null| 33|              12|\n",
      "|   1000|5008804|          M|           Y|              Y|           0|        427500.0|         Working|   Higher education|    Civil marriage| Rented apartment|    -12005|        -4542|         1|              1|         0|         0|           null|            2.0|     0|1988-11-04|    2009-04-11|2019-02-15|136.60204916713766|                 2|                1|       102.28336090329137| 33|              12|\n",
      "|   1012|5008804|          M|           Y|              Y|           0|        427500.0|         Working|   Higher education|    Civil marriage| Rented apartment|    -12005|        -4542|         1|              1|         0|         0|           null|            2.0|     0|1988-11-04|    2009-04-11|2019-02-17|114.73369384225273|                 3|                2|       119.44270503521452| 33|              12|\n",
      "|   1011|5008804|          M|           Y|              Y|           0|        427500.0|         Working|   Higher education|    Civil marriage| Rented apartment|    -12005|        -4542|         1|              1|         0|         0|           null|            2.0|     0|1988-11-04|    2009-04-11|2019-05-20|103.53905003353589|                 4|                3|        117.8730346375606| 33|              12|\n",
      "|   1003|5008804|          M|           Y|              Y|           0|        427500.0|         Working|   Higher education|    Civil marriage| Rented apartment|    -12005|        -4542|         1|              1|         0|         0|           null|            2.0|     0|1988-11-04|    2009-04-11|2019-07-05|112.94814667072303|                 5|                4|       114.28953848655442| 33|              12|\n",
      "|   1010|5008804|          M|           Y|              Y|           0|        427500.0|         Working|   Higher education|    Civil marriage| Rented apartment|    -12005|        -4542|         1|              1|         0|         0|           null|            2.0|     0|1988-11-04|    2009-04-11|2019-08-01|127.64208725607054|                 6|                5|       114.02126012338815| 33|              12|\n",
      "|   1005|5008804|          M|           Y|              Y|           0|        427500.0|         Working|   Higher education|    Civil marriage| Rented apartment|    -12005|        -4542|         1|              1|         0|         0|           null|            2.0|     0|1988-11-04|    2009-04-11|2019-10-28|104.99499695830349|                 7|                6|       116.29139797883522| 33|              12|\n",
      "|   1006|5008804|          M|           Y|              Y|           0|        427500.0|         Working|   Higher education|    Civil marriage| Rented apartment|    -12005|        -4542|         1|              1|         0|         0|           null|            2.0|     0|1988-11-04|    2009-04-11|2019-11-09|178.01606540287972|                 8|                7|       114.67762640447356| 33|              12|\n",
      "|   1015|5008804|          M|           Y|              Y|           0|        427500.0|         Working|   Higher education|    Civil marriage| Rented apartment|    -12005|        -4542|         1|              1|         0|         0|           null|            2.0|     0|1988-11-04|    2009-04-11|2019-12-02|170.21378601074449|                 9|                8|       122.59493127927432| 33|              12|\n",
      "|   1001|5008804|          M|           Y|              Y|           0|        427500.0|         Working|   Higher education|    Civil marriage| Rented apartment|    -12005|        -4542|         1|              1|         0|         0|           null|            2.0|     0|1988-11-04|    2009-04-11|2019-12-30|112.12568517865296|                10|                9|       127.88591513832655| 33|              12|\n",
      "|   1004|5008804|          M|           Y|              Y|           0|        427500.0|         Working|   Higher education|    Civil marriage| Rented apartment|    -12005|        -4542|         1|              1|         0|         0|           null|            2.0|     0|1988-11-04|    2009-04-11|2020-04-20|134.90211697072857|                11|               10|       126.30989214235919| 33|              12|\n",
      "|   1014|5008804|          M|           Y|              Y|           0|        427500.0|         Working|   Higher education|    Civil marriage| Rented apartment|    -12005|        -4542|         1|              1|         0|         0|           null|            2.0|     0|1988-11-04|    2009-04-11|2020-07-22| 205.3251668682443|                12|               11|       127.09100349039277| 33|              12|\n",
      "|   1007|5008804|          M|           Y|              Y|           0|        427500.0|         Working|   Higher education|    Civil marriage| Rented apartment|    -12005|        -4542|         1|              1|         0|         0|           null|            2.0|     0|1988-11-04|    2009-04-11|2020-08-16|112.61106555002515|                13|               12|       133.61051710521372| 33|              12|\n",
      "|   1013|5008804|          M|           Y|              Y|           0|        427500.0|         Working|   Higher education|    Civil marriage| Rented apartment|    -12005|        -4542|         1|              1|         0|         0|           null|            2.0|     1|1988-11-04|    2009-04-11|2020-09-28|106.16165141343872|                14|               13|       131.99517467789153| 33|              12|\n",
      "|   1009|5008804|          M|           Y|              Y|           0|        427500.0|         Working|   Higher education|    Civil marriage| Rented apartment|    -12005|        -4542|         1|              1|         0|         0|           null|            2.0|     0|1988-11-04|    2009-04-11|2020-10-07|111.49664531369122|                15|               14|        130.1499230161449| 33|              12|\n",
      "|   1002|5008804|          M|           Y|              Y|           0|        427500.0|         Working|   Higher education|    Civil marriage| Rented apartment|    -12005|        -4542|         1|              1|         0|         0|           null|            2.0|     0|1988-11-04|    2009-04-11|2020-12-26|126.17185526748997|                16|               15|       128.90637116931464| 33|              12|\n",
      "|   1016|5008805|          M|           Y|              Y|           0|        427500.0|         Working|   Higher education|    Civil marriage| Rented apartment|    -12005|        -4542|         1|              1|         0|         0|           null|            2.0|     0|1988-11-04|    2009-04-11|2019-04-30|114.67783357765765|                 1|                0|                     null| 33|              12|\n",
      "|   1022|5008805|          M|           Y|              Y|           0|        427500.0|         Working|   Higher education|    Civil marriage| Rented apartment|    -12005|        -4542|         1|              1|         0|         0|           null|            2.0|     0|1988-11-04|    2009-04-11|2019-05-24| 108.4004834844668|                 2|                1|       114.67783357765765| 33|              12|\n",
      "|   1025|5008805|          M|           Y|              Y|           0|        427500.0|         Working|   Higher education|    Civil marriage| Rented apartment|    -12005|        -4542|         1|              1|         0|         0|           null|            2.0|     0|1988-11-04|    2009-04-11|2019-06-19| 106.0067206289098|                 3|                2|       111.53915853106223| 33|              12|\n",
      "|   1023|5008805|          M|           Y|              Y|           0|        427500.0|         Working|   Higher education|    Civil marriage| Rented apartment|    -12005|        -4542|         1|              1|         0|         0|           null|            2.0|     0|1988-11-04|    2009-04-11|2019-07-15|101.68904493434714|                 4|                3|       109.69501256367808| 33|              12|\n",
      "+-------+-------+-----------+------------+---------------+------------+----------------+----------------+-------------------+------------------+-----------------+----------+-------------+----------+---------------+----------+----------+---------------+---------------+------+----------+--------------+----------+------------------+------------------+-----------------+-------------------------+---+----------------+\n",
      "only showing top 20 rows\n",
      "\n"
     ]
    },
    {
     "name": "stderr",
     "output_type": "stream",
     "text": [
      "                                                                                \r"
     ]
    }
   ],
   "source": [
    "cRiskDF = cRiskDF.withColumn('job_start_date',cRiskDF.job_start_date.cast('date'))\n",
    "cRiskDF = cRiskDF.withColumn('years_on_the_job', (F.datediff(F.current_date(),'job_start_date'))/365)\n",
    "cRiskDF = cRiskDF.withColumn('years_on_the_job', cRiskDF.years_on_the_job.cast('int'))\n",
    "cRiskDF.show()"
   ]
  },
  {
   "cell_type": "markdown",
   "id": "e058043b",
   "metadata": {},
   "source": [
    "#### Feature flag_own_car"
   ]
  },
  {
   "cell_type": "code",
   "execution_count": 15,
   "id": "a5563017",
   "metadata": {},
   "outputs": [
    {
     "name": "stderr",
     "output_type": "stream",
     "text": [
      "[Stage 20:>                                                         (0 + 1) / 1]\r"
     ]
    },
    {
     "name": "stdout",
     "output_type": "stream",
     "text": [
      "+-------+-------+-----------+------------+---------------+------------+----------------+----------------+-------------------+------------------+-----------------+----------+-------------+----------+---------------+----------+----------+---------------+---------------+------+----------+--------------+----------+------------------+------------------+-----------------+-------------------------+---+----------------+\n",
      "|loan_id|     id|code_gender|flag_own_car|flag_own_realty|cnt_children|amt_income_total|name_income_type|name_education_type|name_family_status|name_housing_type|days_birth|days_employed|flag_mobil|flag_work_phone|flag_phone|flag_email|occupation_type|cnt_fam_members|status|  birthday|job_start_date| loan_date|       loan_amount|nb_previous_loans1|nb_previous_loans|avg_amount_loans_previous|age|years_on_the_job|\n",
      "+-------+-------+-----------+------------+---------------+------------+----------------+----------------+-------------------+------------------+-----------------+----------+-------------+----------+---------------+----------+----------+---------------+---------------+------+----------+--------------+----------+------------------+------------------+-----------------+-------------------------+---+----------------+\n",
      "|   1008|5008804|          M|           1|              Y|           0|        427500.0|         Working|   Higher education|    Civil marriage| Rented apartment|    -12005|        -4542|         1|              1|         0|         0|           null|            2.0|     0|1988-11-04|    2009-04-11|2019-02-01|102.28336090329137|                 1|                0|                     null| 33|              12|\n",
      "|   1000|5008804|          M|           1|              Y|           0|        427500.0|         Working|   Higher education|    Civil marriage| Rented apartment|    -12005|        -4542|         1|              1|         0|         0|           null|            2.0|     0|1988-11-04|    2009-04-11|2019-02-15|136.60204916713766|                 2|                1|       102.28336090329137| 33|              12|\n",
      "|   1012|5008804|          M|           1|              Y|           0|        427500.0|         Working|   Higher education|    Civil marriage| Rented apartment|    -12005|        -4542|         1|              1|         0|         0|           null|            2.0|     0|1988-11-04|    2009-04-11|2019-02-17|114.73369384225273|                 3|                2|       119.44270503521452| 33|              12|\n",
      "|   1011|5008804|          M|           1|              Y|           0|        427500.0|         Working|   Higher education|    Civil marriage| Rented apartment|    -12005|        -4542|         1|              1|         0|         0|           null|            2.0|     0|1988-11-04|    2009-04-11|2019-05-20|103.53905003353589|                 4|                3|        117.8730346375606| 33|              12|\n",
      "|   1003|5008804|          M|           1|              Y|           0|        427500.0|         Working|   Higher education|    Civil marriage| Rented apartment|    -12005|        -4542|         1|              1|         0|         0|           null|            2.0|     0|1988-11-04|    2009-04-11|2019-07-05|112.94814667072303|                 5|                4|       114.28953848655442| 33|              12|\n",
      "|   1010|5008804|          M|           1|              Y|           0|        427500.0|         Working|   Higher education|    Civil marriage| Rented apartment|    -12005|        -4542|         1|              1|         0|         0|           null|            2.0|     0|1988-11-04|    2009-04-11|2019-08-01|127.64208725607054|                 6|                5|       114.02126012338815| 33|              12|\n",
      "|   1005|5008804|          M|           1|              Y|           0|        427500.0|         Working|   Higher education|    Civil marriage| Rented apartment|    -12005|        -4542|         1|              1|         0|         0|           null|            2.0|     0|1988-11-04|    2009-04-11|2019-10-28|104.99499695830349|                 7|                6|       116.29139797883522| 33|              12|\n",
      "|   1006|5008804|          M|           1|              Y|           0|        427500.0|         Working|   Higher education|    Civil marriage| Rented apartment|    -12005|        -4542|         1|              1|         0|         0|           null|            2.0|     0|1988-11-04|    2009-04-11|2019-11-09|178.01606540287972|                 8|                7|       114.67762640447356| 33|              12|\n",
      "|   1015|5008804|          M|           1|              Y|           0|        427500.0|         Working|   Higher education|    Civil marriage| Rented apartment|    -12005|        -4542|         1|              1|         0|         0|           null|            2.0|     0|1988-11-04|    2009-04-11|2019-12-02|170.21378601074449|                 9|                8|       122.59493127927432| 33|              12|\n",
      "|   1001|5008804|          M|           1|              Y|           0|        427500.0|         Working|   Higher education|    Civil marriage| Rented apartment|    -12005|        -4542|         1|              1|         0|         0|           null|            2.0|     0|1988-11-04|    2009-04-11|2019-12-30|112.12568517865296|                10|                9|       127.88591513832655| 33|              12|\n",
      "|   1004|5008804|          M|           1|              Y|           0|        427500.0|         Working|   Higher education|    Civil marriage| Rented apartment|    -12005|        -4542|         1|              1|         0|         0|           null|            2.0|     0|1988-11-04|    2009-04-11|2020-04-20|134.90211697072857|                11|               10|       126.30989214235919| 33|              12|\n",
      "|   1014|5008804|          M|           1|              Y|           0|        427500.0|         Working|   Higher education|    Civil marriage| Rented apartment|    -12005|        -4542|         1|              1|         0|         0|           null|            2.0|     0|1988-11-04|    2009-04-11|2020-07-22| 205.3251668682443|                12|               11|       127.09100349039277| 33|              12|\n",
      "|   1007|5008804|          M|           1|              Y|           0|        427500.0|         Working|   Higher education|    Civil marriage| Rented apartment|    -12005|        -4542|         1|              1|         0|         0|           null|            2.0|     0|1988-11-04|    2009-04-11|2020-08-16|112.61106555002515|                13|               12|       133.61051710521372| 33|              12|\n",
      "|   1013|5008804|          M|           1|              Y|           0|        427500.0|         Working|   Higher education|    Civil marriage| Rented apartment|    -12005|        -4542|         1|              1|         0|         0|           null|            2.0|     1|1988-11-04|    2009-04-11|2020-09-28|106.16165141343872|                14|               13|       131.99517467789153| 33|              12|\n",
      "|   1009|5008804|          M|           1|              Y|           0|        427500.0|         Working|   Higher education|    Civil marriage| Rented apartment|    -12005|        -4542|         1|              1|         0|         0|           null|            2.0|     0|1988-11-04|    2009-04-11|2020-10-07|111.49664531369122|                15|               14|        130.1499230161449| 33|              12|\n",
      "|   1002|5008804|          M|           1|              Y|           0|        427500.0|         Working|   Higher education|    Civil marriage| Rented apartment|    -12005|        -4542|         1|              1|         0|         0|           null|            2.0|     0|1988-11-04|    2009-04-11|2020-12-26|126.17185526748997|                16|               15|       128.90637116931464| 33|              12|\n",
      "|   1016|5008805|          M|           1|              Y|           0|        427500.0|         Working|   Higher education|    Civil marriage| Rented apartment|    -12005|        -4542|         1|              1|         0|         0|           null|            2.0|     0|1988-11-04|    2009-04-11|2019-04-30|114.67783357765765|                 1|                0|                     null| 33|              12|\n",
      "|   1022|5008805|          M|           1|              Y|           0|        427500.0|         Working|   Higher education|    Civil marriage| Rented apartment|    -12005|        -4542|         1|              1|         0|         0|           null|            2.0|     0|1988-11-04|    2009-04-11|2019-05-24| 108.4004834844668|                 2|                1|       114.67783357765765| 33|              12|\n",
      "|   1025|5008805|          M|           1|              Y|           0|        427500.0|         Working|   Higher education|    Civil marriage| Rented apartment|    -12005|        -4542|         1|              1|         0|         0|           null|            2.0|     0|1988-11-04|    2009-04-11|2019-06-19| 106.0067206289098|                 3|                2|       111.53915853106223| 33|              12|\n",
      "|   1023|5008805|          M|           1|              Y|           0|        427500.0|         Working|   Higher education|    Civil marriage| Rented apartment|    -12005|        -4542|         1|              1|         0|         0|           null|            2.0|     0|1988-11-04|    2009-04-11|2019-07-15|101.68904493434714|                 4|                3|       109.69501256367808| 33|              12|\n",
      "+-------+-------+-----------+------------+---------------+------------+----------------+----------------+-------------------+------------------+-----------------+----------+-------------+----------+---------------+----------+----------+---------------+---------------+------+----------+--------------+----------+------------------+------------------+-----------------+-------------------------+---+----------------+\n",
      "only showing top 20 rows\n",
      "\n"
     ]
    },
    {
     "name": "stderr",
     "output_type": "stream",
     "text": [
      "                                                                                \r"
     ]
    }
   ],
   "source": [
    "cRiskDF = cRiskDF.withColumn('flag_own_car', when(cRiskDF.flag_own_car == 'Y',1).when(cRiskDF.flag_own_car == 'N',0))\n",
    "#cRiskDF.flag_own_car.map(lambda x : 0 if x == 'False' else 1)\n",
    "cRiskDF.show()"
   ]
  },
  {
   "cell_type": "markdown",
   "id": "6213c289",
   "metadata": {},
   "source": [
    "## Save dataset for model training"
   ]
  },
  {
   "cell_type": "code",
   "execution_count": 16,
   "id": "b54ef587",
   "metadata": {},
   "outputs": [
    {
     "name": "stderr",
     "output_type": "stream",
     "text": [
      "[Stage 23:>                                                         (0 + 1) / 1]\r"
     ]
    },
    {
     "name": "stdout",
     "output_type": "stream",
     "text": [
      "+-------+---+----------------+-----------------+-------------------------+------------+------+\n",
      "|     id|age|years_on_the_job|nb_previous_loans|avg_amount_loans_previous|flag_own_car|status|\n",
      "+-------+---+----------------+-----------------+-------------------------+------------+------+\n",
      "|5008804| 33|              12|                0|                     null|           1|     0|\n",
      "|5008804| 33|              12|                1|       102.28336090329137|           1|     0|\n",
      "|5008804| 33|              12|                2|       119.44270503521452|           1|     0|\n",
      "|5008804| 33|              12|                3|        117.8730346375606|           1|     0|\n",
      "|5008804| 33|              12|                4|       114.28953848655442|           1|     0|\n",
      "|5008804| 33|              12|                5|       114.02126012338815|           1|     0|\n",
      "|5008804| 33|              12|                6|       116.29139797883522|           1|     0|\n",
      "|5008804| 33|              12|                7|       114.67762640447356|           1|     0|\n",
      "|5008804| 33|              12|                8|       122.59493127927432|           1|     0|\n",
      "|5008804| 33|              12|                9|       127.88591513832655|           1|     0|\n",
      "|5008804| 33|              12|               10|       126.30989214235919|           1|     0|\n",
      "|5008804| 33|              12|               11|       127.09100349039277|           1|     0|\n",
      "|5008804| 33|              12|               12|       133.61051710521372|           1|     0|\n",
      "|5008804| 33|              12|               13|       131.99517467789153|           1|     1|\n",
      "|5008804| 33|              12|               14|        130.1499230161449|           1|     0|\n",
      "|5008804| 33|              12|               15|       128.90637116931464|           1|     0|\n",
      "|5008805| 33|              12|                0|                     null|           1|     0|\n",
      "|5008805| 33|              12|                1|       114.67783357765765|           1|     0|\n",
      "|5008805| 33|              12|                2|       111.53915853106223|           1|     0|\n",
      "|5008805| 33|              12|                3|       109.69501256367808|           1|     0|\n",
      "+-------+---+----------------+-----------------+-------------------------+------------+------+\n",
      "only showing top 20 rows\n",
      "\n"
     ]
    },
    {
     "name": "stderr",
     "output_type": "stream",
     "text": [
      "                                                                                \r"
     ]
    }
   ],
   "source": [
    "cRiskDF = cRiskDF.select('id', 'age', 'years_on_the_job', 'nb_previous_loans', 'avg_amount_loans_previous', 'flag_own_car', 'status')\n",
    "cRiskDF.show()"
   ]
  },
  {
   "cell_type": "code",
   "execution_count": 17,
   "id": "bd069dbd",
   "metadata": {},
   "outputs": [
    {
     "name": "stderr",
     "output_type": "stream",
     "text": [
      "                                                                                \r"
     ]
    }
   ],
   "source": [
    "#from pyspark.sql.avro.functions import from_avro, to_avro\n",
    "#cRiskDF.write.avro('train_model')\n",
    "cRiskDF.write.csv('train_model', header=True)"
   ]
  },
  {
   "cell_type": "code",
   "execution_count": 18,
   "id": "e2ffbef0",
   "metadata": {},
   "outputs": [],
   "source": [
    "#cRiskDF = cRiskDF.na.fill(value=0,subset=['avg_amount_loans_previous']).show()"
   ]
  },
  {
   "cell_type": "code",
   "execution_count": null,
   "id": "4a86b34d",
   "metadata": {},
   "outputs": [],
   "source": []
  }
 ],
 "metadata": {
  "kernelspec": {
   "display_name": "Python 3 (ipykernel)",
   "language": "python",
   "name": "python3"
  },
  "language_info": {
   "codemirror_mode": {
    "name": "ipython",
    "version": 3
   },
   "file_extension": ".py",
   "mimetype": "text/x-python",
   "name": "python",
   "nbconvert_exporter": "python",
   "pygments_lexer": "ipython3",
   "version": "3.9.7"
  }
 },
 "nbformat": 4,
 "nbformat_minor": 5
}
